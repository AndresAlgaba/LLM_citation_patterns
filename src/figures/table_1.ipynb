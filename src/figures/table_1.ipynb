{
 "cells": [
  {
   "cell_type": "code",
   "execution_count": 1,
   "metadata": {},
   "outputs": [],
   "source": [
    "import os\n",
    "\n",
    "import pandas as pd\n",
    "\n",
    "\n",
    "base_dir = os.path.abspath(\"..\")\n",
    "results_dir = os.path.join(base_dir, \"..\", \"results\")\n",
    "figures_dir = os.path.join(base_dir, \"..\", \"figures\")\n",
    "\n",
    "gen_refs = pd.read_csv(os.path.join(results_dir, f\"merged_gen_refs_vanilla_gpt-4_unique.csv\"))\n",
    "intro_refs = pd.read_csv(os.path.join(results_dir, f\"merged_intro_refs_vanilla_gpt-4_unique.csv\"))\n",
    "\n",
    "gen_refs_iterative = pd.read_csv(os.path.join(results_dir, f\"merged_gen_refs_vanilla_gpt-4_iterative_unique.csv\"))\n",
    "intro_refs_iterative = pd.read_csv(os.path.join(results_dir, f\"merged_intro_refs_vanilla_gpt-4_iterative_unique.csv\"))"
   ]
  },
  {
   "cell_type": "code",
   "execution_count": 4,
   "metadata": {},
   "outputs": [
    {
     "name": "stdout",
     "output_type": "stream",
     "text": [
      "strategy\n",
      "vanilla_1    64.244482\n",
      "vanilla_2    63.319386\n",
      "vanilla_3    62.805929\n",
      "vanilla_4    64.170584\n",
      "vanilla_5    67.610063\n",
      "Name: Exists, dtype: float64\n",
      "strategy\n",
      "vanilla_1    86.960951\n",
      "vanilla_2    85.460251\n",
      "vanilla_3    88.038607\n",
      "vanilla_4    86.803224\n",
      "vanilla_5    86.268344\n",
      "Name: Exists, dtype: float64\n"
     ]
    }
   ],
   "source": [
    "# Existence\n",
    "print(gen_refs.fillna(0).groupby(\"strategy\")[\"Exists\"].mean()*100)\n",
    "print(gen_refs_iterative.fillna(0).groupby(\"strategy\")[\"Exists\"].mean()*100)"
   ]
  },
  {
   "cell_type": "code",
   "execution_count": 5,
   "metadata": {},
   "outputs": [
    {
     "name": "stdout",
     "output_type": "stream",
     "text": [
      "strategy\n",
      "vanilla_1    17.453311\n",
      "vanilla_2    17.050209\n",
      "vanilla_3    15.684247\n",
      "vanilla_4    16.823371\n",
      "vanilla_5    17.994410\n",
      "Name: In Paper, dtype: float64\n",
      "strategy\n",
      "vanilla_1    19.966044\n",
      "vanilla_2    20.083682\n",
      "vanilla_3    18.407446\n",
      "vanilla_4    19.173942\n",
      "vanilla_5    20.789658\n",
      "Name: In Paper, dtype: float64\n"
     ]
    }
   ],
   "source": [
    "# In paper\n",
    "print(gen_refs.fillna(0).groupby(\"strategy\")[\"In Paper\"].mean()*100)\n",
    "print(gen_refs_iterative.fillna(0).groupby(\"strategy\")[\"In Paper\"].mean()*100)"
   ]
  },
  {
   "cell_type": "code",
   "execution_count": 6,
   "metadata": {},
   "outputs": [
    {
     "name": "stdout",
     "output_type": "stream",
     "text": [
      "strategy\n",
      "vanilla_1    13.412564\n",
      "vanilla_2    13.145049\n",
      "vanilla_3    12.168218\n",
      "vanilla_4    12.894560\n",
      "vanilla_5    13.906359\n",
      "Name: In Intro, dtype: float64\n",
      "strategy\n",
      "vanilla_1    14.533107\n",
      "vanilla_2    14.958159\n",
      "vanilla_3    13.478111\n",
      "vanilla_4    14.271323\n",
      "vanilla_5    15.338924\n",
      "Name: In Intro, dtype: float64\n"
     ]
    }
   ],
   "source": [
    "# In intro\n",
    "print(gen_refs.fillna(0).groupby(\"strategy\")[\"In Intro\"].mean()*100)\n",
    "print(gen_refs_iterative.fillna(0).groupby(\"strategy\")[\"In Intro\"].mean()*100)"
   ]
  },
  {
   "cell_type": "code",
   "execution_count": 7,
   "metadata": {},
   "outputs": [
    {
     "name": "stdout",
     "output_type": "stream",
     "text": [
      "strategy\n",
      "vanilla_1    6.960951\n",
      "vanilla_2    7.147838\n",
      "vanilla_3    6.342640\n",
      "vanilla_4    6.850235\n",
      "vanilla_5    6.743536\n",
      "Name: match, dtype: float64\n",
      "strategy\n",
      "vanilla_1    7.062818\n",
      "vanilla_2    7.322176\n",
      "vanilla_3    6.618407\n",
      "vanilla_4    6.984553\n",
      "vanilla_5    7.127883\n",
      "Name: match, dtype: float64\n"
     ]
    }
   ],
   "source": [
    "# pairwise match\n",
    "gen_refs[\"match\"] = gen_refs[\"Id\"] == intro_refs[\"Id\"]\n",
    "gen_refs_iterative[\"match\"] = gen_refs_iterative[\"Id\"] == intro_refs_iterative[\"Id\"]\n",
    "\n",
    "print(gen_refs.groupby(\"strategy\")[\"match\"].mean()*100)\n",
    "print(gen_refs_iterative.groupby(\"strategy\")[\"match\"].mean()*100)"
   ]
  },
  {
   "cell_type": "code",
   "execution_count": 8,
   "metadata": {},
   "outputs": [
    {
     "name": "stdout",
     "output_type": "stream",
     "text": [
      "strategy\n",
      "vanilla_1    12.522523\n",
      "vanilla_2    13.732719\n",
      "vanilla_3    12.534060\n",
      "vanilla_4    13.656783\n",
      "vanilla_5    13.339552\n",
      "Name: match, dtype: float64\n",
      "strategy\n",
      "vanilla_1    12.522523\n",
      "vanilla_2    14.101382\n",
      "vanilla_3    12.897366\n",
      "vanilla_4    13.656783\n",
      "vanilla_5    13.992537\n",
      "Name: match, dtype: float64\n"
     ]
    }
   ],
   "source": [
    "# unique match\n",
    "print(gen_refs[gen_refs[\"Unique\"] == 1].groupby(\"strategy\")[\"match\"].mean()*100)\n",
    "print(gen_refs_iterative[gen_refs_iterative[\"Unique\"] == 1].groupby(\"strategy\")[\"match\"].mean()*100)"
   ]
  },
  {
   "cell_type": "code",
   "execution_count": null,
   "metadata": {},
   "outputs": [],
   "source": []
  }
 ],
 "metadata": {
  "kernelspec": {
   "display_name": "Python 3",
   "language": "python",
   "name": "python3"
  },
  "language_info": {
   "codemirror_mode": {
    "name": "ipython",
    "version": 3
   },
   "file_extension": ".py",
   "mimetype": "text/x-python",
   "name": "python",
   "nbconvert_exporter": "python",
   "pygments_lexer": "ipython3",
   "version": "3.9.11"
  }
 },
 "nbformat": 4,
 "nbformat_minor": 2
}
