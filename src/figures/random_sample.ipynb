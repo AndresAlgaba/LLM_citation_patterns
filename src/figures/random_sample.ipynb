{
 "cells": [
  {
   "cell_type": "code",
   "execution_count": 1,
   "metadata": {},
   "outputs": [],
   "source": [
    "import os\n",
    "import random\n",
    "import pandas as pd\n",
    "\n",
    "base_dir = os.path.abspath(\"..\")\n",
    "results_dir = os.path.join(base_dir, \"..\", \"results\")\n",
    "\n",
    "results = pd.read_csv(os.path.join(results_dir, 'merged_gen_refs_vanilla_gpt-4_unique.csv'))\n",
    "mask=results['strategy']=='vanilla_1'\n",
    "results=results[mask]\n",
    "\n",
    "random.seed(42)\n",
    "sample = results.sample(n=100, random_state=42)\n",
    "\n",
    "sample.to_csv(os.path.join(results_dir, 'sample_vanilla_1.csv'), index=False)"
   ]
  },
  {
   "cell_type": "code",
   "execution_count": null,
   "metadata": {},
   "outputs": [],
   "source": []
  }
 ],
 "metadata": {
  "kernelspec": {
   "display_name": ".venv",
   "language": "python",
   "name": "python3"
  },
  "language_info": {
   "codemirror_mode": {
    "name": "ipython",
    "version": 3
   },
   "file_extension": ".py",
   "mimetype": "text/x-python",
   "name": "python",
   "nbconvert_exporter": "python",
   "pygments_lexer": "ipython3",
   "version": "3.9.11"
  }
 },
 "nbformat": 4,
 "nbformat_minor": 2
}
